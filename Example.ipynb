{
 "cells": [
  {
   "cell_type": "markdown",
   "metadata": {},
   "source": [
    "# SampleSize Lib - Examples\n",
    "\n",
    "\n",
    "\n",
    "Link: https://andriygav.github.io/SampleSizeLib/info.html"
   ]
  },
  {
   "cell_type": "code",
   "execution_count": 1,
   "metadata": {},
   "outputs": [],
   "source": [
    "import warnings\n",
    "warnings.filterwarnings(\"ignore\")"
   ]
  },
  {
   "cell_type": "code",
   "execution_count": 2,
   "metadata": {},
   "outputs": [],
   "source": [
    "import numpy as np\n",
    "#\n",
    "from samplesizelib.linear.statistical import LagrangeEstimator\n",
    "from samplesizelib.linear.statistical import LikelihoodRatioEstimator\n",
    "from samplesizelib.linear.statistical import WaldEstimator\n",
    "from samplesizelib.linear.models      import RegressionModel\n",
    "from samplesizelib.linear.models      import LogisticModel\n",
    "#\n",
    "from samplesizelib.linear.heuristic import CrossValidationEstimator\n",
    "from samplesizelib.linear.heuristic import BootstrapEstimator\n",
    "from samplesizelib.linear.heuristic import LogisticRegressionEstimator\n",
    "from samplesizelib.linear.bayesian  import APVCEstimator\n",
    "from samplesizelib.linear.bayesian  import ACCEstimator\n",
    "from samplesizelib.linear.bayesian  import ALCEstimator\n",
    "from samplesizelib.linear.bayesian  import MaxUtilityEstimator\n",
    "from samplesizelib.linear.bayesian  import KLEstimator"
   ]
  },
  {
   "cell_type": "markdown",
   "metadata": {},
   "source": [
    "# Datasets"
   ]
  },
  {
   "cell_type": "markdown",
   "metadata": {},
   "source": [
    "## Generate dataset for regression and classification tasks."
   ]
  },
  {
   "cell_type": "code",
   "execution_count": 3,
   "metadata": {},
   "outputs": [],
   "source": [
    "# Initialization\n",
    "#\n",
    "np.random.seed(0)\n",
    "\n",
    "\n",
    "n = 30\n",
    "m = 100"
   ]
  },
  {
   "cell_type": "code",
   "execution_count": 4,
   "metadata": {},
   "outputs": [
    {
     "name": "stdout",
     "output_type": "stream",
     "text": [
      "[INFO] Dataset: Regression\n",
      "[INFO] Number of features:   30\n",
      "[INFO] Number of instances:  100\n",
      "\n",
      "\n",
      "[INFO] Dataset: Classification\n",
      "[INFO] Number of features:   30\n",
      "[INFO] Number of instances:  100\n"
     ]
    }
   ],
   "source": [
    "# Regression dataset\n",
    "#\n",
    "X_rg = np.random.randn(m, n)\n",
    "y_rg = np.random.randn(m)\n",
    "\n",
    "print('[INFO] Dataset: Regression')\n",
    "print('[INFO] Number of features:  ', X_rg.shape[1])\n",
    "print('[INFO] Number of instances: ', X_rg.shape[0])\n",
    "print('\\n')\n",
    "\n",
    "\n",
    "\n",
    "# Classification dataset\n",
    "#\n",
    "X_cl = np.random.randn(m, n)\n",
    "y_cl = np.random.randint(2, size=m)\n",
    "\n",
    "\n",
    "print('[INFO] Dataset: Classification')\n",
    "print('[INFO] Number of features:  ', X_cl.shape[1])\n",
    "print('[INFO] Number of instances: ', X_cl.shape[0])"
   ]
  },
  {
   "cell_type": "markdown",
   "metadata": {},
   "source": [
    "## Preprocess"
   ]
  },
  {
   "cell_type": "code",
   "execution_count": 5,
   "metadata": {},
   "outputs": [],
   "source": [
    "from sklearn.preprocessing import StandardScaler\n",
    "\n",
    "# Setup scaler\n",
    "#\n",
    "scaler = StandardScaler()\n",
    "\n",
    "# Apply scaler to Regression dataset\n",
    "X_rg = scaler.fit_transform( X_rg )\n",
    "\n",
    "\n",
    "# Apply scaler to Classification dataset\n",
    "X_cl = scaler.fit_transform( X_cl )"
   ]
  },
  {
   "cell_type": "markdown",
   "metadata": {},
   "source": [
    "# Regression"
   ]
  },
  {
   "cell_type": "markdown",
   "metadata": {},
   "source": [
    "## Bayesian Methods"
   ]
  },
  {
   "cell_type": "markdown",
   "metadata": {},
   "source": [
    "### Example of KL-divergence method"
   ]
  },
  {
   "cell_type": "code",
   "execution_count": null,
   "metadata": {},
   "outputs": [],
   "source": [
    "try:\n",
    "    model = KLEstimator(RegressionModel)\n",
    "    ret = model(X_rg, y_rg)\n",
    "\n",
    "    print('[INFO] Number of samples: {} - Reduction: {:.1f}%'.format(ret['m*'], 100.*(1 - ret['m*'] / X_rg.shape[0])) )\n",
    "\n",
    "except Exception as e:\n",
    "    print('[ERROR] Method cannot be applied')\n",
    "    print('Message: ', e)"
   ]
  },
  {
   "cell_type": "markdown",
   "metadata": {},
   "source": [
    "### Example of Max Utility method"
   ]
  },
  {
   "cell_type": "code",
   "execution_count": null,
   "metadata": {},
   "outputs": [],
   "source": [
    "try:\n",
    "    model = MaxUtilityEstimator(RegressionModel)\n",
    "    ret = model(X_rg, y_rg)\n",
    "\n",
    "    print('[INFO] Number of samples: {} - Reduction: {:.1f}%'.format(ret['m*'], 100.*(1 - ret['m*'] / X_rg.shape[0])) )\n",
    "\n",
    "except Exception as e:\n",
    "    print('[ERROR] Method cannot be applied')\n",
    "    print('Message: ', e)"
   ]
  },
  {
   "cell_type": "markdown",
   "metadata": {},
   "source": [
    "### Example of ALC method"
   ]
  },
  {
   "cell_type": "code",
   "execution_count": null,
   "metadata": {},
   "outputs": [],
   "source": [
    "try:\n",
    "    model = ALCEstimator(RegressionModel)\n",
    "    ret = model(X_rg, y_rg)\n",
    "\n",
    "    print('[INFO] Number of samples: {} - Reduction: {:.1f}%'.format(ret['m*'], 100.*(1 - ret['m*'] / X_rg.shape[0])) )\n",
    "\n",
    "except Exception as e:\n",
    "    print('[ERROR] Method cannot be applied')\n",
    "    print('Message: ', e)"
   ]
  },
  {
   "cell_type": "markdown",
   "metadata": {},
   "source": [
    "### Example of ACC method"
   ]
  },
  {
   "cell_type": "code",
   "execution_count": null,
   "metadata": {},
   "outputs": [],
   "source": [
    "try:\n",
    "    model = ACCEstimator(RegressionModel)\n",
    "    ret = model(X_rg, y_rg)\n",
    "\n",
    "    print('[INFO] Number of samples: {} - Reduction: {:.1f}%'.format(ret['m*'], 100.*(1 - ret['m*'] / X_rg.shape[0])) )\n",
    "\n",
    "except Exception as e:\n",
    "    print('[ERROR] Method cannot be applied')\n",
    "    print('Message: ', e)"
   ]
  },
  {
   "cell_type": "markdown",
   "metadata": {},
   "source": [
    "### Example of APVC method"
   ]
  },
  {
   "cell_type": "code",
   "execution_count": null,
   "metadata": {},
   "outputs": [],
   "source": [
    "try:\n",
    "    model = APVCEstimator(RegressionModel)\n",
    "    ret = model(X_rg, y_rg)\n",
    "\n",
    "    print('[INFO] Number of samples: {} - Reduction: {:.1f}%'.format(ret['m*'], 100.*(1 - ret['m*'] / X_rg.shape[0])) )\n",
    "\n",
    "except Exception as e:\n",
    "    print('[ERROR] Method cannot be applied')\n",
    "    print('Message: ', e)"
   ]
  },
  {
   "cell_type": "markdown",
   "metadata": {},
   "source": [
    "## Statistical methods"
   ]
  },
  {
   "cell_type": "markdown",
   "metadata": {},
   "source": [
    "### Example of Lagrange based method"
   ]
  },
  {
   "cell_type": "code",
   "execution_count": null,
   "metadata": {},
   "outputs": [],
   "source": [
    "try:\n",
    "    model = LagrangeEstimator(RegressionModel)\n",
    "    ret = model(X_rg, y_rg)\n",
    "\n",
    "    print('[INFO] Number of samples: {} - Reduction: {:.1f}%'.format(ret['m*'], 100.*(1 - ret['m*'] / X_rg.shape[0])) )\n",
    "\n",
    "except Exception as e:\n",
    "    print('[ERROR] Method cannot be applied')\n",
    "    print('Message: ', e)"
   ]
  },
  {
   "cell_type": "markdown",
   "metadata": {},
   "source": [
    "### Example of Likelihood Ratio based method"
   ]
  },
  {
   "cell_type": "code",
   "execution_count": null,
   "metadata": {},
   "outputs": [],
   "source": [
    "try:\n",
    "    model = LikelihoodRatioEstimator(RegressionModel)\n",
    "    ret = model(X_rg, y_rg)\n",
    "\n",
    "    print('[INFO] Number of samples: {} - Reduction: {:.1f}%'.format(ret['m*'], 100.*(1 - ret['m*'] / X_rg.shape[0])) )\n",
    "\n",
    "except Exception as e:\n",
    "    print('[ERROR] Method cannot be applied')\n",
    "    print('Message: ', e)"
   ]
  },
  {
   "cell_type": "markdown",
   "metadata": {},
   "source": [
    "### Example of Wald based method"
   ]
  },
  {
   "cell_type": "code",
   "execution_count": null,
   "metadata": {},
   "outputs": [],
   "source": [
    "try:\n",
    "    model = WaldEstimator(RegressionModel)\n",
    "    ret = model(X_rg, y_rg)\n",
    "\n",
    "    print('[INFO] Number of samples: {} - Reduction: {:.1f}%'.format(ret['m*'], 100.*(1 - ret['m*'] / X_rg.shape[0])) )\n",
    "\n",
    "except Exception as e:\n",
    "    print('[ERROR] Method cannot be applied')\n",
    "    print('Message: ', e)"
   ]
  },
  {
   "cell_type": "markdown",
   "metadata": {},
   "source": [
    "## Heuristic Methods"
   ]
  },
  {
   "cell_type": "markdown",
   "metadata": {},
   "source": [
    "### Example of Bootstrap based method:"
   ]
  },
  {
   "cell_type": "code",
   "execution_count": null,
   "metadata": {},
   "outputs": [],
   "source": [
    "try:\n",
    "    model = BootstrapEstimator(RegressionModel)\n",
    "    ret = model(X_rg, y_rg)\n",
    "\n",
    "    print('[INFO] Number of samples: {} - Reduction: {:.1f}%'.format(ret['m*'], 100.*(1 - ret['m*'] / X_rg.shape[0])) )\n",
    "\n",
    "except Exception as e:\n",
    "    print('[ERROR] Method cannot be applied')\n",
    "    print('Message: ', e)"
   ]
  },
  {
   "cell_type": "markdown",
   "metadata": {},
   "source": [
    "### Example of Cross Validation based method"
   ]
  },
  {
   "cell_type": "code",
   "execution_count": null,
   "metadata": {},
   "outputs": [],
   "source": [
    "try:\n",
    "    model = CrossValidationEstimator(RegressionModel)\n",
    "    ret = model(X_rg, y_rg)\n",
    "\n",
    "    print('[INFO] Number of samples: {} - Reduction: {:.1f}%'.format(ret['m*'], 100.*(1 - ret['m*'] / X_rg.shape[0])) )\n",
    "\n",
    "except Exception as e:\n",
    "    print('[ERROR] Method cannot be applied')\n",
    "    print('Message: ', e)"
   ]
  },
  {
   "cell_type": "markdown",
   "metadata": {},
   "source": [
    "# Classification"
   ]
  },
  {
   "cell_type": "markdown",
   "metadata": {},
   "source": [
    "## Bayesian methods"
   ]
  },
  {
   "cell_type": "markdown",
   "metadata": {},
   "source": [
    "### Example of KL-divergence method"
   ]
  },
  {
   "cell_type": "code",
   "execution_count": null,
   "metadata": {},
   "outputs": [],
   "source": [
    "try:\n",
    "    model = KLEstimator(LogisticModel)\n",
    "    ret = model(X_cl, y_cl)\n",
    "\n",
    "    print('[INFO] Number of samples: {} - Reduction: {:.1f}%'.format(ret['m*'], 100.*(1 - ret['m*'] / X_cl.shape[0])) )\n",
    "\n",
    "except Exception as e:\n",
    "    print('[ERROR] Method cannot be applied')\n",
    "    print('Message: ', e)"
   ]
  },
  {
   "cell_type": "markdown",
   "metadata": {},
   "source": [
    "### Example of Max Utility method"
   ]
  },
  {
   "cell_type": "code",
   "execution_count": null,
   "metadata": {},
   "outputs": [],
   "source": [
    "try:\n",
    "    model = MaxUtilityEstimator(LogisticModel)\n",
    "    ret = model(X_cl, y_cl)\n",
    "\n",
    "    print('[INFO] Number of samples: {} - Reduction: {:.1f}%'.format(ret['m*'], 100.*(1 - ret['m*'] / X_cl.shape[0])) )\n",
    "\n",
    "except Exception as e:\n",
    "    print('[ERROR] Method cannot be applied')\n",
    "    print('Message: ', e)"
   ]
  },
  {
   "cell_type": "markdown",
   "metadata": {},
   "source": [
    "### Example of ALC method"
   ]
  },
  {
   "cell_type": "code",
   "execution_count": null,
   "metadata": {},
   "outputs": [],
   "source": [
    "try:\n",
    "    model = ALCEstimator(LogisticModel)\n",
    "    ret = model(X_cl, y_cl)\n",
    "\n",
    "    print('[INFO] Number of samples: {} - Reduction: {:.1f}%'.format(ret['m*'], 100.*(1 - ret['m*'] / X_cl.shape[0])) )\n",
    "\n",
    "except Exception as e:\n",
    "    print('[ERROR] Method cannot be applied')\n",
    "    print('Message: ', e)"
   ]
  },
  {
   "cell_type": "markdown",
   "metadata": {},
   "source": [
    "### Example of ACC method"
   ]
  },
  {
   "cell_type": "code",
   "execution_count": null,
   "metadata": {},
   "outputs": [],
   "source": [
    "try:\n",
    "    model = ACCEstimator(LogisticModel)\n",
    "    ret = model(X_cl, y_cl)\n",
    "\n",
    "    print('[INFO] Number of samples: {} - Reduction: {:.1f}%'.format(ret['m*'], 100.*(1 - ret['m*'] / X_cl.shape[0])) )\n",
    "\n",
    "except Exception as e:\n",
    "    print('[ERROR] Method cannot be applied')\n",
    "    print('Message: ', e)"
   ]
  },
  {
   "cell_type": "markdown",
   "metadata": {},
   "source": [
    "### Example of APVC method"
   ]
  },
  {
   "cell_type": "code",
   "execution_count": 11,
   "metadata": {},
   "outputs": [
    {
     "name": "stdout",
     "output_type": "stream",
     "text": [
      "[INFO] Number of samples: 99 - Reduction: 1.0%\n"
     ]
    }
   ],
   "source": [
    "try:\n",
    "    model = APVCEstimator(LogisticModel)\n",
    "    ret = model(X_cl, y_cl)\n",
    "\n",
    "    print('[INFO] Number of samples: {} - Reduction: {:.1f}%'.format(ret['m*'], 100.*(1 - ret['m*'] / X_cl.shape[0])) )\n",
    "\n",
    "except Exception as e:\n",
    "    print('[ERROR] Method cannot be applied')\n",
    "    print('Message: ', e)"
   ]
  },
  {
   "cell_type": "markdown",
   "metadata": {},
   "source": [
    "## Statistical methods"
   ]
  },
  {
   "cell_type": "markdown",
   "metadata": {},
   "source": [
    "### Example of Lagrange based method"
   ]
  },
  {
   "cell_type": "code",
   "execution_count": 10,
   "metadata": {},
   "outputs": [
    {
     "name": "stdout",
     "output_type": "stream",
     "text": [
      "[INFO] Number of samples: 82 - Reduction: 18.0%\n"
     ]
    }
   ],
   "source": [
    "try:\n",
    "    model = LagrangeEstimator(LogisticModel)\n",
    "    ret = model(X_cl, y_cl)\n",
    "\n",
    "    print('[INFO] Number of samples: {} - Reduction: {:.1f}%'.format(ret['m*'], 100.*(1 - ret['m*'] / X_cl.shape[0])) )\n",
    "\n",
    "except Exception as e:\n",
    "    print('[ERROR] Method cannot be applied')\n",
    "    print('Message: ', e)"
   ]
  },
  {
   "cell_type": "markdown",
   "metadata": {},
   "source": [
    "### Example of Likelihood Ratio based method"
   ]
  },
  {
   "cell_type": "code",
   "execution_count": 9,
   "metadata": {},
   "outputs": [
    {
     "name": "stdout",
     "output_type": "stream",
     "text": [
      "[INFO] Number of samples: 40 - Reduction: 60.0%\n"
     ]
    }
   ],
   "source": [
    "try:\n",
    "    model = LikelihoodRatioEstimator(LogisticModel)\n",
    "    ret = model(X_cl, y_cl)\n",
    "\n",
    "    print('[INFO] Number of samples: {} - Reduction: {:.1f}%'.format(ret['m*'], 100.*(1 - ret['m*'] / X_cl.shape[0])) )\n",
    "\n",
    "except Exception as e:\n",
    "    print('[ERROR] Method cannot be applied')\n",
    "    print('Message: ', e)"
   ]
  },
  {
   "cell_type": "markdown",
   "metadata": {},
   "source": [
    "### Example of Wald based method"
   ]
  },
  {
   "cell_type": "code",
   "execution_count": 8,
   "metadata": {},
   "outputs": [
    {
     "name": "stdout",
     "output_type": "stream",
     "text": [
      "[INFO] Number of samples: 88 - Reduction: 12.0%\n"
     ]
    }
   ],
   "source": [
    "try:\n",
    "    model = WaldEstimator(LogisticModel)\n",
    "    ret = model(X_cl, y_cl)\n",
    "\n",
    "    print('[INFO] Number of samples: {} - Reduction: {:.1f}%'.format(ret['m*'], 100.*(1 - ret['m*'] / X_cl.shape[0])) )\n",
    "\n",
    "except Exception as e:\n",
    "    print('[ERROR] Method cannot be applied')\n",
    "    print('Message: ', e)"
   ]
  },
  {
   "cell_type": "markdown",
   "metadata": {},
   "source": [
    "## Heuristic methods"
   ]
  },
  {
   "cell_type": "markdown",
   "metadata": {},
   "source": [
    "### Example of Logistic Regression method"
   ]
  },
  {
   "cell_type": "code",
   "execution_count": 6,
   "metadata": {},
   "outputs": [
    {
     "name": "stdout",
     "output_type": "stream",
     "text": [
      "[ERROR] Method cannot be applied\n",
      "Message:  cannot convert float infinity to integer\n"
     ]
    }
   ],
   "source": [
    "try:\n",
    "    model = LogisticRegressionEstimator(LogisticModel)\n",
    "    ret = model(X_cl, y_cl)\n",
    "\n",
    "    print('[INFO] Number of samples: {} - Reduction: {:.1f}%'.format(ret['m*'], 100.*(1 - ret['m*'] / X_cl.shape[0])) )\n",
    "\n",
    "except Exception as e:\n",
    "    print('[ERROR] Method cannot be applied')\n",
    "    print('Message: ', e)"
   ]
  },
  {
   "cell_type": "markdown",
   "metadata": {},
   "source": [
    "### Example of Bootstrap based method:"
   ]
  },
  {
   "cell_type": "code",
   "execution_count": 7,
   "metadata": {},
   "outputs": [
    {
     "name": "stdout",
     "output_type": "stream",
     "text": [
      "[INFO] Number of samples: 99 - Reduction: 1.0%\n"
     ]
    }
   ],
   "source": [
    "try:\n",
    "    model = BootstrapEstimator(LogisticModel)\n",
    "    ret = model(X_cl, y_cl)\n",
    "\n",
    "    print('[INFO] Number of samples: {} - Reduction: {:.1f}%'.format(ret['m*'], 100.*(1 - ret['m*'] / X_cl.shape[0])) )\n",
    "\n",
    "except Exception as e:\n",
    "    print('[ERROR] Method cannot be applied')\n",
    "    print('Message: ', e)"
   ]
  },
  {
   "cell_type": "markdown",
   "metadata": {},
   "source": [
    "### Example of Cross Validation based method:"
   ]
  },
  {
   "cell_type": "code",
   "execution_count": null,
   "metadata": {},
   "outputs": [],
   "source": [
    "try:\n",
    "    model = CrossValidationEstimator(LogisticModel)\n",
    "    ret = model(X_cl, y_cl)\n",
    "\n",
    "    print('[INFO] Number of samples: {} - Reduction: {:.1f}%'.format(ret['m*'], 100.*(1 - ret['m*'] / X_cl.shape[0])) )\n",
    "\n",
    "except Exception as e:\n",
    "    print('[ERROR] Method cannot be applied')\n",
    "    print('Message: ', e)"
   ]
  }
 ],
 "metadata": {
  "kernelspec": {
   "display_name": "Python 3.8.8 ('base')",
   "language": "python",
   "name": "python3"
  },
  "language_info": {
   "codemirror_mode": {
    "name": "ipython",
    "version": 3
   },
   "file_extension": ".py",
   "mimetype": "text/x-python",
   "name": "python",
   "nbconvert_exporter": "python",
   "pygments_lexer": "ipython3",
   "version": "3.8.8"
  },
  "orig_nbformat": 4,
  "vscode": {
   "interpreter": {
    "hash": "fa23c396786b4d8bae15b4dc315ec26db9398f6d21f7b928724b3b0fc14ac3e3"
   }
  }
 },
 "nbformat": 4,
 "nbformat_minor": 2
}
